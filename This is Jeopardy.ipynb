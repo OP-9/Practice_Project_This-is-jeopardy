{
 "cells": [
  {
   "cell_type": "markdown",
   "metadata": {},
   "source": [
    "# This is Jeopardy!"
   ]
  },
  {
   "cell_type": "markdown",
   "metadata": {},
   "source": [
    "## Project Description"
   ]
  },
  {
   "cell_type": "markdown",
   "metadata": {},
   "source": [
    "This project uses real-world data from the gameshow Jeopardy. The main goal of this project is to practices basics of data cleaning and data analysis."
   ]
  },
  {
   "cell_type": "markdown",
   "metadata": {},
   "source": [
    "## Project "
   ]
  },
  {
   "cell_type": "code",
   "execution_count": null,
   "metadata": {},
   "outputs": [],
   "source": [
    "import pandas as pd\n",
    "pd.set_option('display.max_colwidth', None)\n",
    "jp = pd.read_csv('jeopardy.csv') \n",
    "jp.head()\n",
    "jp =jp.rename(columns={'Show Number':'show_number', ' Air Date':'air_date', ' Round':'round', ' Category':'category', ' Value':'value',\n",
    "                   ' Question':'question' , ' Answer':'answer'})\n"
   ]
  },
  {
   "cell_type": "markdown",
   "metadata": {},
   "source": [
    "Write a function that filters the dataset for questions that contains all of the words in a list of words. For example, when the list `[\"King\", \"England\"]` was passed to our function, the function returned a DataFrame of 49 rows. Every row had the strings `\"King\"` and `\"England\"` somewhere in its `\" Question\"`.\n",
    "\n",
    "   Test your function by printing out the column containing the question of each row of the dataset."
   ]
  },
  {
   "cell_type": "code",
   "execution_count": null,
   "metadata": {
    "scrolled": true
   },
   "outputs": [],
   "source": [
    "query = [\"King\"]\n",
    "\n",
    "def word_finder(data, query):\n",
    "    filter = lambda x: all(entry in x for entry in query)\n",
    "    filtered_list = data.loc[data.question.apply(filter)]\n",
    "    return filtered_list\n",
    "    \n",
    "the_list = word_finder(jp, query)"
   ]
  },
  {
   "cell_type": "markdown",
   "metadata": {},
   "source": [
    "Test your original function with a few different sets of words to try to find some ways your function breaks. Edit your function so it is more robust.\n",
    "\n",
    "   For example, think about capitalization. We probably want to find questions that contain the word `\"King\"` or `\"king\"`.\n",
    "   \n",
    "   You may also want to check to make sure you don't find rows that contain substrings of your given words. For example, our function found a question that didn't contain the word `\"king\"`, however it did contain the word `\"viking\"` &mdash; it found the `\"king\"` inside `\"viking\"`. Note that this also comes with some drawbacks &mdash; you would no longer find questions that contained words like `\"England's\"`."
   ]
  },
  {
   "cell_type": "code",
   "execution_count": null,
   "metadata": {},
   "outputs": [],
   "source": [
    "def word_finder_better(data, query):\n",
    "    filter_lower = lambda x: all(entry.lower() in x.lower() for entry in query)\n",
    "    filter_capital_first = lambda x: all(entry.title() in x.title() for entry in query)\n",
    "    filtered_list = data.loc[data.question.apply(filter_lower) & data.question.apply(filter_capital_first)]\n",
    "    return filtered_list\n",
    "\n",
    "the_list = word_finder_better(jp, query)\n",
    "print(the_list.answer)"
   ]
  },
  {
   "cell_type": "markdown",
   "metadata": {},
   "source": [
    "We may want to eventually compute aggregate statistics, like `.mean()` on the `\" Value\"` column. But right now, the values in that column are strings. Convert the`\" Value\"` column to floats. If you'd like to, you can create a new column with float values.\n",
    "\n",
    "   While most of the values in the `\" Value\"` column represent a dollar amount as a string, note that some do not &mdash; these values will need to be handled differently!\n",
    "\n",
    "   Now that you can filter the dataset of question, use your new column that contains the float values of each question to find the \"difficulty\" of certain topics. For example, what is the average value of questions that contain the word `\"King\"`?\n",
    "   \n",
    "   Make sure to use the dataset that contains the float values as the dataset you use in your filtering function."
   ]
  },
  {
   "cell_type": "code",
   "execution_count": null,
   "metadata": {
    "scrolled": true
   },
   "outputs": [],
   "source": [
    "symbol_remover = (lambda x: x.lstrip('$') if x[0] == '$' else (0 if x == 'no value' else x))\n",
    "comma_remover = (lambda x: x.replace(',', ''))\n",
    "jp['value_float'] = jp.value.apply(lambda x: x.replace(',', ''))\n",
    "jp['value_float'] = jp.value_float.apply(symbol_remover)\n",
    "\n",
    "print(jp.value_float[277])\n",
    "print(jp.value_float[len(jp)-1])\n",
    "\n"
   ]
  },
  {
   "cell_type": "code",
   "execution_count": null,
   "metadata": {
    "scrolled": true
   },
   "outputs": [],
   "source": [
    "symbol_remover = (lambda x: x.lstrip('$') if x[0] == '$' else (0 if x == 'no value' else x))\n",
    "jp['value_dollar_removed'] = jp.value.apply(symbol_remover)\n",
    "a=jp.value_dollar_removed.str.contains(',')\n",
    "i=0; list_values_with_comma =[]\n",
    "for col_name, vals in a.items():\n",
    "    if vals == True:\n",
    "        list_values_with_comma.append(col_name)\n",
    "        i+=1\n",
    "list_values_with_comma[10]"
   ]
  },
  {
   "cell_type": "markdown",
   "metadata": {},
   "source": [
    "Write a function that returns the count of unique answers to all of the questions in a dataset. For example, after filtering the entire dataset to only questions containing the word `\"King\"`, we could then find all of the unique answers to those questions. The answer \"Henry VIII\" appeared 55 times and was the most common answer."
   ]
  },
  {
   "cell_type": "code",
   "execution_count": null,
   "metadata": {
    "scrolled": true
   },
   "outputs": [],
   "source": [
    "def unique_answer_counter():\n",
    "    filtered_answers = word_finder_better(jp, query)\n",
    "    print(jp.value_counts(filtered_answers.answer)) \n",
    "    \n",
    "def unique_answer_counter_modified():\n",
    "    i=0\n",
    "    filtered_answers = word_finder_better(jp, query)\n",
    "   \n",
    "filtered_answers = word_finder_better(jp, query)"
   ]
  },
  {
   "cell_type": "code",
   "execution_count": null,
   "metadata": {},
   "outputs": [],
   "source": [
    "i=0; dictionary={}\n",
    "for entry in filtered_answers.answer:\n",
    "    tester = lambda x: True if entry == x else False\n",
    "\n",
    "true_or_false_df = filtered_answers.answer.apply(tester)\n",
    "\n",
    "for counting in true_or_false_df:\n",
    "    if counting == True:\n",
    "        i+=1\n",
    "    dictionary[counting] = i\n",
    "\n",
    "print(dictionary)"
   ]
  },
  {
   "cell_type": "markdown",
   "metadata": {},
   "source": [
    "Build a system to quiz yourself. Grab random questions, and use the <a href=\"https://docs.python.org/3/library/functions.html#input\">input</a> function to get a response from the user. Check to see if that response was right or wrong."
   ]
  },
  {
   "cell_type": "code",
   "execution_count": null,
   "metadata": {},
   "outputs": [],
   "source": [
    "import random\n",
    "\n",
    "index_num = random.randint(0, len(jp))\n",
    "correct_answer = jp.answer[index_num]\n",
    "print(jp.question[index_num])\n",
    "user_response = input('Type your answer here: ')\n",
    "if correct_answer == user_response:\n",
    "    print(\"That's correct!\")\n",
    "else:\n",
    "    print(\"Nope! \\n The correct answer is :\\n\",correct_answer)"
   ]
  },
  {
   "cell_type": "markdown",
   "metadata": {
    "jp-MarkdownHeadingCollapsed": true
   },
   "source": [
    "## Solution"
   ]
  },
  {
   "cell_type": "markdown",
   "metadata": {},
   "source": [
    "7. Compare your program to our <a href=\"https://content.codecademy.com/PRO/independent-practice-projects/jeopardy/jeopardy_solution.zip\">sample solution code</a> - remember, that your program might look different from ours (and probably will) and that's okay!"
   ]
  },
  {
   "cell_type": "markdown",
   "metadata": {},
   "source": [
    "8. Great work! Visit <a href=\"https://discuss.codecademy.com/t/this-is-jeopardy-challenge-project-python-pandas/462365\">our forums</a> to compare your project to our sample solution code. You can also learn how to host your own solution on GitHub so you can share it with other learners! Your solution might look different from ours, and that's okay! There are multiple ways to solve these projects, and you'll learn more by seeing others' code."
   ]
  },
  {
   "cell_type": "code",
   "execution_count": null,
   "metadata": {},
   "outputs": [],
   "source": []
  }
 ],
 "metadata": {
  "kernelspec": {
   "display_name": "Python 3 (ipykernel)",
   "language": "python",
   "name": "python3"
  },
  "language_info": {
   "codemirror_mode": {
    "name": "ipython",
    "version": 3
   },
   "file_extension": ".py",
   "mimetype": "text/x-python",
   "name": "python",
   "nbconvert_exporter": "python",
   "pygments_lexer": "ipython3",
   "version": "3.11.7"
  }
 },
 "nbformat": 4,
 "nbformat_minor": 4
}
